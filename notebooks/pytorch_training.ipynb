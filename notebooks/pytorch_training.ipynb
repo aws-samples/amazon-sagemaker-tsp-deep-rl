{
 "cells": [
  {
   "cell_type": "code",
   "execution_count": 1,
   "id": "4cde76f2",
   "metadata": {},
   "outputs": [
    {
     "name": "stdout",
     "output_type": "stream",
     "text": [
      "Requirement already satisfied: sagemaker in /home/ec2-user/anaconda3/envs/pytorch_latest_p36/lib/python3.6/site-packages (2.52.2.post0)\n",
      "Requirement already satisfied: protobuf3-to-dict>=0.1.5 in /home/ec2-user/anaconda3/envs/pytorch_latest_p36/lib/python3.6/site-packages (from sagemaker) (0.1.5)\n",
      "Requirement already satisfied: attrs in /home/ec2-user/anaconda3/envs/pytorch_latest_p36/lib/python3.6/site-packages (from sagemaker) (20.3.0)\n",
      "Requirement already satisfied: google-pasta in /home/ec2-user/anaconda3/envs/pytorch_latest_p36/lib/python3.6/site-packages (from sagemaker) (0.2.0)\n",
      "Requirement already satisfied: protobuf>=3.1 in /home/ec2-user/anaconda3/envs/pytorch_latest_p36/lib/python3.6/site-packages (from sagemaker) (3.17.3)\n",
      "Requirement already satisfied: smdebug-rulesconfig==1.0.1 in /home/ec2-user/anaconda3/envs/pytorch_latest_p36/lib/python3.6/site-packages (from sagemaker) (1.0.1)\n",
      "Requirement already satisfied: numpy>=1.9.0 in /home/ec2-user/anaconda3/envs/pytorch_latest_p36/lib/python3.6/site-packages (from sagemaker) (1.19.2)\n",
      "Requirement already satisfied: packaging>=20.0 in /home/ec2-user/anaconda3/envs/pytorch_latest_p36/lib/python3.6/site-packages (from sagemaker) (20.9)\n",
      "Requirement already satisfied: pandas in /home/ec2-user/anaconda3/envs/pytorch_latest_p36/lib/python3.6/site-packages (from sagemaker) (1.1.5)\n",
      "Requirement already satisfied: boto3>=1.16.32 in /home/ec2-user/anaconda3/envs/pytorch_latest_p36/lib/python3.6/site-packages (from sagemaker) (1.17.100)\n",
      "Requirement already satisfied: pathos in /home/ec2-user/anaconda3/envs/pytorch_latest_p36/lib/python3.6/site-packages (from sagemaker) (0.2.7)\n",
      "Requirement already satisfied: importlib-metadata>=1.4.0 in /home/ec2-user/anaconda3/envs/pytorch_latest_p36/lib/python3.6/site-packages (from sagemaker) (3.7.0)\n",
      "Requirement already satisfied: botocore<1.21.0,>=1.20.100 in /home/ec2-user/anaconda3/envs/pytorch_latest_p36/lib/python3.6/site-packages (from boto3>=1.16.32->sagemaker) (1.20.100)\n",
      "Requirement already satisfied: s3transfer<0.5.0,>=0.4.0 in /home/ec2-user/anaconda3/envs/pytorch_latest_p36/lib/python3.6/site-packages (from boto3>=1.16.32->sagemaker) (0.4.2)\n",
      "Requirement already satisfied: jmespath<1.0.0,>=0.7.1 in /home/ec2-user/anaconda3/envs/pytorch_latest_p36/lib/python3.6/site-packages (from boto3>=1.16.32->sagemaker) (0.10.0)\n",
      "Requirement already satisfied: python-dateutil<3.0.0,>=2.1 in /home/ec2-user/anaconda3/envs/pytorch_latest_p36/lib/python3.6/site-packages (from botocore<1.21.0,>=1.20.100->boto3>=1.16.32->sagemaker) (2.8.1)\n",
      "Requirement already satisfied: urllib3<1.27,>=1.25.4 in /home/ec2-user/anaconda3/envs/pytorch_latest_p36/lib/python3.6/site-packages (from botocore<1.21.0,>=1.20.100->boto3>=1.16.32->sagemaker) (1.26.5)\n",
      "Requirement already satisfied: typing-extensions>=3.6.4 in /home/ec2-user/anaconda3/envs/pytorch_latest_p36/lib/python3.6/site-packages (from importlib-metadata>=1.4.0->sagemaker) (3.7.4.3)\n",
      "Requirement already satisfied: zipp>=0.5 in /home/ec2-user/anaconda3/envs/pytorch_latest_p36/lib/python3.6/site-packages (from importlib-metadata>=1.4.0->sagemaker) (3.4.0)\n",
      "Requirement already satisfied: pyparsing>=2.0.2 in /home/ec2-user/anaconda3/envs/pytorch_latest_p36/lib/python3.6/site-packages (from packaging>=20.0->sagemaker) (2.4.7)\n",
      "Requirement already satisfied: six>=1.9 in /home/ec2-user/anaconda3/envs/pytorch_latest_p36/lib/python3.6/site-packages (from protobuf>=3.1->sagemaker) (1.15.0)\n",
      "Requirement already satisfied: pytz>=2017.2 in /home/ec2-user/anaconda3/envs/pytorch_latest_p36/lib/python3.6/site-packages (from pandas->sagemaker) (2021.1)\n",
      "Requirement already satisfied: dill>=0.3.3 in /home/ec2-user/anaconda3/envs/pytorch_latest_p36/lib/python3.6/site-packages (from pathos->sagemaker) (0.3.3)\n",
      "Requirement already satisfied: ppft>=1.6.6.3 in /home/ec2-user/anaconda3/envs/pytorch_latest_p36/lib/python3.6/site-packages (from pathos->sagemaker) (1.6.6.3)\n",
      "Requirement already satisfied: multiprocess>=0.70.11 in /home/ec2-user/anaconda3/envs/pytorch_latest_p36/lib/python3.6/site-packages (from pathos->sagemaker) (0.70.11.1)\n",
      "Requirement already satisfied: pox>=0.2.9 in /home/ec2-user/anaconda3/envs/pytorch_latest_p36/lib/python3.6/site-packages (from pathos->sagemaker) (0.2.9)\n",
      "\u001b[33mWARNING: You are using pip version 21.1.2; however, version 21.2.3 is available.\n",
      "You should consider upgrading via the '/home/ec2-user/anaconda3/envs/pytorch_latest_p36/bin/python -m pip install --upgrade pip' command.\u001b[0m\n"
     ]
    }
   ],
   "source": [
    "!pip install sagemaker --upgrade"
   ]
  },
  {
   "cell_type": "code",
   "execution_count": 2,
   "id": "459a05cd",
   "metadata": {},
   "outputs": [],
   "source": [
    "import sagemaker\n",
    "import boto3"
   ]
  },
  {
   "cell_type": "markdown",
   "id": "c84f6bd6",
   "metadata": {},
   "source": [
    "# 1. Prepare Training data"
   ]
  },
  {
   "cell_type": "code",
   "execution_count": 3,
   "id": "bd963afb",
   "metadata": {},
   "outputs": [
    {
     "name": "stdout",
     "output_type": "stream",
     "text": [
      "Requirement already satisfied: gdown in /home/ec2-user/anaconda3/envs/pytorch_latest_p36/lib/python3.6/site-packages (3.13.0)\n",
      "Requirement already satisfied: six in /home/ec2-user/anaconda3/envs/pytorch_latest_p36/lib/python3.6/site-packages (from gdown) (1.15.0)\n",
      "Requirement already satisfied: filelock in /home/ec2-user/anaconda3/envs/pytorch_latest_p36/lib/python3.6/site-packages (from gdown) (3.0.12)\n",
      "Requirement already satisfied: tqdm in /home/ec2-user/anaconda3/envs/pytorch_latest_p36/lib/python3.6/site-packages (from gdown) (4.62.0)\n",
      "Requirement already satisfied: requests[socks]>=2.12.0 in /home/ec2-user/anaconda3/envs/pytorch_latest_p36/lib/python3.6/site-packages (from gdown) (2.25.1)\n",
      "Requirement already satisfied: idna<3,>=2.5 in /home/ec2-user/anaconda3/envs/pytorch_latest_p36/lib/python3.6/site-packages (from requests[socks]>=2.12.0->gdown) (2.10)\n",
      "Requirement already satisfied: certifi>=2017.4.17 in /home/ec2-user/anaconda3/envs/pytorch_latest_p36/lib/python3.6/site-packages (from requests[socks]>=2.12.0->gdown) (2021.5.30)\n",
      "Requirement already satisfied: chardet<5,>=3.0.2 in /home/ec2-user/anaconda3/envs/pytorch_latest_p36/lib/python3.6/site-packages (from requests[socks]>=2.12.0->gdown) (3.0.4)\n",
      "Requirement already satisfied: urllib3<1.27,>=1.21.1 in /home/ec2-user/anaconda3/envs/pytorch_latest_p36/lib/python3.6/site-packages (from requests[socks]>=2.12.0->gdown) (1.26.5)\n",
      "Requirement already satisfied: PySocks!=1.5.7,>=1.5.6 in /home/ec2-user/anaconda3/envs/pytorch_latest_p36/lib/python3.6/site-packages (from requests[socks]>=2.12.0->gdown) (1.7.1)\n",
      "\u001b[33mWARNING: You are using pip version 21.1.2; however, version 21.2.3 is available.\n",
      "You should consider upgrading via the '/home/ec2-user/anaconda3/envs/pytorch_latest_p36/bin/python -m pip install --upgrade pip' command.\u001b[0m\n"
     ]
    }
   ],
   "source": [
    "!pip install gdown"
   ]
  },
  {
   "cell_type": "code",
   "execution_count": 4,
   "id": "984a9a8b",
   "metadata": {},
   "outputs": [
    {
     "name": "stdout",
     "output_type": "stream",
     "text": [
      "File tsp-data.tar.gz exists.\n"
     ]
    }
   ],
   "source": [
    "%%bash\n",
    "if [ -f tsp-data.tar.gz ]; then\n",
    "   echo \"File tsp-data.tar.gz exists.\"\n",
    "else\n",
    "   echo \"File tsp-data.tar.gz does not exist.\"\n",
    "   gdown https://drive.google.com/uc?id=152mpCze-v4d0m9kdsCeVkLdHFkjeDeF5\n",
    "fi"
   ]
  },
  {
   "cell_type": "code",
   "execution_count": 5,
   "id": "f8eaf323",
   "metadata": {},
   "outputs": [
    {
     "name": "stdout",
     "output_type": "stream",
     "text": [
      "Folder data exists.\n"
     ]
    }
   ],
   "source": [
    "%%bash\n",
    "if [ -d data ]; then\n",
    "   echo \"Folder data exists.\"\n",
    "else\n",
    "   echo \"Folder data does not exist.\"\n",
    "   tar -xvzf tsp-data.tar.gz -C ./\n",
    "fi"
   ]
  },
  {
   "cell_type": "code",
   "execution_count": 6,
   "id": "d14c97f7",
   "metadata": {},
   "outputs": [],
   "source": [
    "session = sagemaker.Session()\n",
    "BUCKET = session.default_bucket()                 # Set a default S3 bucket"
   ]
  },
  {
   "cell_type": "code",
   "execution_count": 7,
   "id": "2348bafe",
   "metadata": {},
   "outputs": [],
   "source": [
    "s3 = boto3.resource('s3')\n",
    "prefix = \"data/tsp\"\n",
    "for file in [\"tsp20_test_concorde.txt\", \"tsp50_test_concorde.txt\", \"tsp100_test_concorde.txt\"]:\n",
    "    s3.meta.client.upload_file(f\"data/tsp/{file}\",\n",
    "                               BUCKET,\n",
    "                               f\"data/tsp/{file}\")"
   ]
  },
  {
   "cell_type": "markdown",
   "id": "49f25e0e",
   "metadata": {},
   "source": [
    "# 2. Distributed Training"
   ]
  },
  {
   "cell_type": "code",
   "execution_count": 8,
   "id": "16808ee5",
   "metadata": {},
   "outputs": [
    {
     "name": "stdout",
     "output_type": "stream",
     "text": [
      "The Amazon Resource Name (ARN) of the role used for this demo is: arn:aws:iam::161422014849:role/service-role/AmazonSageMaker-ExecutionRole-20210428T165325\n",
      "The name of the role used for this demo is: AmazonSageMaker-ExecutionRole-20210428T165325\n"
     ]
    }
   ],
   "source": [
    "sagemaker_session = sagemaker.Session()\n",
    "role = sagemaker.get_execution_role()\n",
    "role_name = role.split([\"/\"][-1])\n",
    "print(f\"The Amazon Resource Name (ARN) of the role used for this demo is: {role}\")\n",
    "print(f\"The name of the role used for this demo is: {role_name[-1]}\")"
   ]
  },
  {
   "cell_type": "code",
   "execution_count": 9,
   "id": "015684d9",
   "metadata": {},
   "outputs": [],
   "source": [
    "from sagemaker.pytorch import PyTorch\n",
    "\n",
    "estimator = PyTorch(\n",
    "    base_job_name=\"pytorch-smdataparallel-tsp\",\n",
    "    source_dir=\"./src\",\n",
    "    entry_point=\"run.py\",\n",
    "    role=role,\n",
    "    framework_version=\"1.8.1\",\n",
    "    py_version=\"py36\",\n",
    "    instance_count=1,\n",
    "    instance_type=\"ml.p3.16xlarge\",\n",
    "    sagemaker_session=sagemaker_session,\n",
    "    distribution={\"smdistributed\": {\"dataparallel\": {\"enabled\": True}}},\n",
    "    debugger_hook_config=False,\n",
    "    hyperparameters={\n",
    "        \"problem\": \"tsp\",\n",
    "        \"min_size\": 50,\n",
    "        \"max_size\": 50,\n",
    "        \"neighbors\": 0.2,\n",
    "        \"knn_strat\": \"percentage\",\n",
    "        \"n_epochs\": 100,\n",
    "        \"epoch_size\": 128000,\n",
    "        \"batch_size\": 128,\n",
    "        \"accumulation_steps\": 1,\n",
    "        \"train_dataset\": \"tsp20-50_train_concorde.txt\",\n",
    "        \"val_datasets\": \"tsp20_test_concorde.txt tsp50_test_concorde.txt tsp100_test_concorde.txt\",\n",
    "        \"val_size\": 1280,\n",
    "        \"rollout_size\": 1280,\n",
    "        \"model\": \"attention\",\n",
    "        \"encoder\": \"gnn\",\n",
    "        \"embedding_dim\": 128,\n",
    "        \"hidden_dim\": 512,\n",
    "        \"n_encode_layers\": 3,\n",
    "        \"aggregation\": \"max\",\n",
    "        \"normalization\": \"batch\",\n",
    "        \"n_heads\": 8,\n",
    "        \"tanh_clipping\": 10.0,\n",
    "        \"lr_model\": 0.0001,\n",
    "        \"lr_critic\": 0.0001,\n",
    "        \"lr_decay\": 1.0,\n",
    "        \"max_grad_norm\": 1.0,\n",
    "        \"exp_beta\": 0.8,\n",
    "        \"baseline\": \"rollout\",\n",
    "        \"bl_alpha\": 0.05,\n",
    "        \"bl_warmup_epochs\": 0,\n",
    "        \"seed\": 1234,\n",
    "        \"num_workers\": 0,\n",
    "        \"log_step\": 100,\n",
    "    },\n",
    "    metric_definitions=[\n",
    "        {\n",
    "            \"Name\": \"val:gap_tsp20\",\n",
    "            \"Regex\": \"tsp20_test_concorde.txt Validation optimality gap=(.*?)\\%\",\n",
    "        },\n",
    "        {\n",
    "            \"Name\": \"val:gap_tsp50\",\n",
    "            \"Regex\": \"tsp50_test_concorde.txt Validation optimality gap=(.*?)\\%\",\n",
    "        },\n",
    "        {\n",
    "            \"Name\": \"val:gap_tsp100\",\n",
    "            \"Regex\": \"tsp100_test_concorde.txt Validation optimality gap=(.*?)\\%\",\n",
    "        },\n",
    "    ],\n",
    "    max_run=1 * 24 * 60 * 60,\n",
    ")"
   ]
  },
  {
   "cell_type": "code",
   "execution_count": 10,
   "id": "7eb753bb",
   "metadata": {},
   "outputs": [],
   "source": [
    "estimator.fit({'train': f's3://{BUCKET}/data/tsp',\n",
    "               'val': f's3://{BUCKET}/data/tsp'}, wait=False)"
   ]
  }
 ],
 "metadata": {
  "kernelspec": {
   "display_name": "conda_pytorch_latest_p36",
   "language": "python",
   "name": "conda_pytorch_latest_p36"
  },
  "language_info": {
   "codemirror_mode": {
    "name": "ipython",
    "version": 3
   },
   "file_extension": ".py",
   "mimetype": "text/x-python",
   "name": "python",
   "nbconvert_exporter": "python",
   "pygments_lexer": "ipython3",
   "version": "3.6.13"
  }
 },
 "nbformat": 4,
 "nbformat_minor": 5
}
