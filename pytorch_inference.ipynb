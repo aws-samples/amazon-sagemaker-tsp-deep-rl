{
 "cells": [
  {
   "cell_type": "code",
   "execution_count": 1,
   "id": "7a2e7295",
   "metadata": {},
   "outputs": [],
   "source": [
    "import sys\n",
    "sys.path.append(\"./learning-tsp/src\")"
   ]
  },
  {
   "cell_type": "code",
   "execution_count": 2,
   "id": "8c96c225",
   "metadata": {},
   "outputs": [],
   "source": [
    "%load_ext autoreload\n",
    "%autoreload 2"
   ]
  },
  {
   "cell_type": "code",
   "execution_count": 3,
   "id": "2e4ffc37",
   "metadata": {},
   "outputs": [
    {
     "name": "stdout",
     "output_type": "stream",
     "text": [
      "Requirement already satisfied: tqdm in /home/ec2-user/anaconda3/envs/pytorch_latest_p36/lib/python3.6/site-packages (4.62.0)\n",
      "\u001b[33mWARNING: You are using pip version 21.1.2; however, version 21.2.3 is available.\n",
      "You should consider upgrading via the '/home/ec2-user/anaconda3/envs/pytorch_latest_p36/bin/python -m pip install --upgrade pip' command.\u001b[0m\n"
     ]
    }
   ],
   "source": [
    "!pip install tqdm"
   ]
  },
  {
   "cell_type": "code",
   "execution_count": 4,
   "id": "56829ced",
   "metadata": {},
   "outputs": [],
   "source": [
    "from problems.tsp.problem_tsp import TSP\n",
    "from utils import load_model, move_to\n",
    "from torch.utils.data import DataLoader\n",
    "import boto3\n",
    "import sagemaker"
   ]
  },
  {
   "cell_type": "code",
   "execution_count": 5,
   "id": "72fc875b",
   "metadata": {},
   "outputs": [],
   "source": [
    "from inference import *"
   ]
  },
  {
   "cell_type": "code",
   "execution_count": 6,
   "id": "a2b9bed0",
   "metadata": {},
   "outputs": [],
   "source": [
    "import pandas as pd"
   ]
  },
  {
   "cell_type": "code",
   "execution_count": 7,
   "id": "f39e6544",
   "metadata": {},
   "outputs": [],
   "source": [
    "from sagemaker.serializers import JSONLinesSerializer\n",
    "from sagemaker.deserializers import JSONLinesDeserializer"
   ]
  },
  {
   "cell_type": "code",
   "execution_count": 8,
   "id": "6c344787",
   "metadata": {},
   "outputs": [],
   "source": [
    "session = sagemaker.Session()\n",
    "BUCKET = session.default_bucket()                   # Set a default S3 bucket"
   ]
  },
  {
   "cell_type": "code",
   "execution_count": 9,
   "id": "f2e73574",
   "metadata": {},
   "outputs": [],
   "source": [
    "# set USE_PRETRAINED_MODEL to False if you have trained a model using pytorch_smdataparallel_tsp_demo.ipynb\n",
    "USE_PRETRAINED_MODEL = True"
   ]
  },
  {
   "cell_type": "code",
   "execution_count": 10,
   "id": "9ca62b02",
   "metadata": {},
   "outputs": [],
   "source": [
    "PRETRAINED_MODEL_PATH = \"learning-tsp/pretrained/tsp_20-50/rl-ar-var-20pnn-gnn-max_20200313T002243/model.tar.gz\""
   ]
  },
  {
   "cell_type": "markdown",
   "id": "f7cafa62",
   "metadata": {},
   "source": [
    "# 1. Test inference code locally"
   ]
  },
  {
   "cell_type": "markdown",
   "id": "8baeda04",
   "metadata": {},
   "source": [
    "## Prepare data"
   ]
  },
  {
   "cell_type": "code",
   "execution_count": 11,
   "id": "43d080fc",
   "metadata": {},
   "outputs": [],
   "source": [
    "dataset_path = None\n",
    "batch_size = 1\n",
    "accumulation_steps = 80\n",
    "num_samples = 2 # 1280 samples per TSP size \n",
    "\n",
    "neighbors = 0.20\n",
    "knn_strat = 'percentage'"
   ]
  },
  {
   "cell_type": "code",
   "execution_count": 12,
   "id": "ae89575b",
   "metadata": {},
   "outputs": [
    {
     "name": "stdout",
     "output_type": "stream",
     "text": [
      "\n",
      "Generating 2 samples of TSP10-10...\n"
     ]
    },
    {
     "name": "stderr",
     "output_type": "stream",
     "text": [
      "100%|##########| 2/2 [00:00<00:00, 996.27it/s]\n"
     ]
    }
   ],
   "source": [
    "dataset = TSP.make_dataset(\n",
    "    filename=dataset_path,\n",
    "    batch_size=batch_size,\n",
    "    num_samples=num_samples,\n",
    "    min_size=10,\n",
    "    max_size=10,\n",
    "    neighbors=neighbors,\n",
    "    knn_strat=knn_strat,\n",
    "    supervised=False\n",
    ")\n",
    "dataloader = DataLoader(dataset,\n",
    "                        batch_size=batch_size,\n",
    "                        shuffle=False,\n",
    "                        num_workers=0)"
   ]
  },
  {
   "cell_type": "code",
   "execution_count": 13,
   "id": "ce253f18",
   "metadata": {},
   "outputs": [],
   "source": [
    "# transform data\n",
    "data = []\n",
    "for bat_idx, bat in enumerate(dataloader):\n",
    "    input = {}\n",
    "    input[\"nodes\"] = bat[\"nodes\"].tolist()\n",
    "    data.append(input)\n",
    "for record in data:\n",
    "    record[\"neighbors\"] = neighbors"
   ]
  },
  {
   "cell_type": "code",
   "execution_count": 14,
   "id": "54ee1eb8",
   "metadata": {},
   "outputs": [
    {
     "data": {
      "text/plain": [
       "[{'nodes': [[[0.17237919569015503, 0.30322661995887756],\n",
       "    [0.4001781642436981, 0.08303876966238022],\n",
       "    [0.9577174782752991, 0.06723511219024658],\n",
       "    [0.3205690085887909, 0.864788293838501],\n",
       "    [0.7107783555984497, 0.4769577980041504],\n",
       "    [0.2889561057090759, 0.23669394850730896],\n",
       "    [0.25502970814704895, 0.6648805141448975],\n",
       "    [0.7122745513916016, 0.8629788160324097],\n",
       "    [0.15989430248737335, 0.5915039777755737],\n",
       "    [0.6722036600112915, 0.42656928300857544]]],\n",
       "  'neighbors': 0.2},\n",
       " {'nodes': [[[0.016316097229719162, 0.9005574584007263],\n",
       "    [0.5326317548751831, 0.3426164388656616],\n",
       "    [0.7196614146232605, 0.14507879316806793],\n",
       "    [0.47778037190437317, 0.18811026215553284],\n",
       "    [0.8428910970687866, 0.8391184210777283],\n",
       "    [0.5771450400352478, 0.7313387989997864],\n",
       "    [0.35447993874549866, 0.8077568411827087],\n",
       "    [0.9068283438682556, 0.30471447110176086],\n",
       "    [0.05323702096939087, 0.22702862322330475],\n",
       "    [0.0816958099603653, 0.9146664142608643]]],\n",
       "  'neighbors': 0.2}]"
      ]
     },
     "execution_count": 14,
     "metadata": {},
     "output_type": "execute_result"
    }
   ],
   "source": [
    "data"
   ]
  },
  {
   "cell_type": "markdown",
   "id": "f1fb8d52",
   "metadata": {},
   "source": [
    "## Prepare the model"
   ]
  },
  {
   "cell_type": "code",
   "execution_count": 15,
   "id": "765da68d",
   "metadata": {
    "scrolled": true
   },
   "outputs": [],
   "source": [
    "# Getting the latest model data from the training jobs\n",
    "def get_latest_model():\n",
    "    client = boto3.client(\"sagemaker\")\n",
    "\n",
    "    # Get the trained sklearn model\n",
    "    response = client.list_training_jobs(\n",
    "        NameContains=\"pytorch-smdataparallel-tsp\",\n",
    "        StatusEquals=\"Completed\",\n",
    "        SortBy=\"CreationTime\",\n",
    "        SortOrder=\"Descending\",\n",
    "    )\n",
    "    training_job_name = response[\"TrainingJobSummaries\"][0][\"TrainingJobName\"]\n",
    "    model_s3 = client.describe_training_job(TrainingJobName=training_job_name)[\n",
    "        \"ModelArtifacts\"\n",
    "    ][\"S3ModelArtifacts\"]\n",
    "    return model_s3\n",
    "\n",
    "# Upload a pretrained model to s3\n",
    "def upload_pretrained_model():\n",
    "    s3 = boto3.resource('s3')\n",
    "    s3.meta.client.upload_file(PRETRAINED_MODEL_PATH,\n",
    "                               BUCKET,\n",
    "                               PRETRAINED_MODEL_PATH)\n",
    "    return f\"s3://{BUCKET}/{PRETRAINED_MODEL_PATH}\""
   ]
  },
  {
   "cell_type": "code",
   "execution_count": 16,
   "id": "69881551",
   "metadata": {},
   "outputs": [],
   "source": [
    "if USE_PRETRAINED_MODEL == True:\n",
    "    model_data = upload_pretrained_model()\n",
    "else:\n",
    "    model_data = get_latest_model()"
   ]
  },
  {
   "cell_type": "code",
   "execution_count": 17,
   "id": "33fc3c97",
   "metadata": {},
   "outputs": [
    {
     "data": {
      "text/plain": [
       "'s3://sagemaker-ap-southeast-2-161422014849/pretrained/tsp_20-50/rl-ar-var-20pnn-gnn-max_20200313T002243/model.tar.gz'"
      ]
     },
     "execution_count": 17,
     "metadata": {},
     "output_type": "execute_result"
    }
   ],
   "source": [
    "model_data"
   ]
  },
  {
   "cell_type": "markdown",
   "id": "59ae9374",
   "metadata": {},
   "source": [
    "## Download the model locally for testing"
   ]
  },
  {
   "cell_type": "code",
   "execution_count": 18,
   "id": "75ec8e99",
   "metadata": {},
   "outputs": [
    {
     "name": "stdout",
     "output_type": "stream",
     "text": [
      "download: s3://sagemaker-ap-southeast-2-161422014849/pretrained/tsp_20-50/rl-ar-var-20pnn-gnn-max_20200313T002243/model.tar.gz to ./model.tar.gz\n"
     ]
    }
   ],
   "source": [
    "!aws s3 cp $model_data ./"
   ]
  },
  {
   "cell_type": "code",
   "execution_count": 19,
   "id": "a3a9703c",
   "metadata": {},
   "outputs": [],
   "source": [
    "!mkdir -p model"
   ]
  },
  {
   "cell_type": "code",
   "execution_count": 20,
   "id": "d3e0827f",
   "metadata": {},
   "outputs": [
    {
     "name": "stdout",
     "output_type": "stream",
     "text": [
      "args.json\n",
      "model.pt\n"
     ]
    }
   ],
   "source": [
    "!tar -xvzf ./model.tar.gz -C ./model/"
   ]
  },
  {
   "cell_type": "code",
   "execution_count": 21,
   "id": "42a2bcd1",
   "metadata": {},
   "outputs": [
    {
     "name": "stdout",
     "output_type": "stream",
     "text": [
      "args.json  model.pt\n"
     ]
    }
   ],
   "source": [
    "!ls model"
   ]
  },
  {
   "cell_type": "markdown",
   "id": "d09ef075",
   "metadata": {},
   "source": [
    "## Load model"
   ]
  },
  {
   "cell_type": "code",
   "execution_count": 22,
   "id": "a4bbfe3e",
   "metadata": {},
   "outputs": [
    {
     "name": "stdout",
     "output_type": "stream",
     "text": [
      "./model/model.pt\n",
      "./model\n",
      "./model/model.pt\n",
      "\n",
      "Loading model from ./model/model.pt\n"
     ]
    },
    {
     "name": "stderr",
     "output_type": "stream",
     "text": [
      "/home/ec2-user/anaconda3/envs/pytorch_latest_p36/lib/python3.6/site-packages/torch/serialization.py:658: SourceChangeWarning: source code of class 'nets.attention_model.AttentionModel' has changed. you can retrieve the original source code by accessing the object's source attribute or set `torch.nn.Module.dump_patches = True` and use the patch tool to revert the changes.\n",
      "  warnings.warn(msg, SourceChangeWarning)\n",
      "/home/ec2-user/anaconda3/envs/pytorch_latest_p36/lib/python3.6/site-packages/torch/serialization.py:658: SourceChangeWarning: source code of class 'torch.nn.modules.linear.Linear' has changed. you can retrieve the original source code by accessing the object's source attribute or set `torch.nn.Module.dump_patches = True` and use the patch tool to revert the changes.\n",
      "  warnings.warn(msg, SourceChangeWarning)\n",
      "/home/ec2-user/anaconda3/envs/pytorch_latest_p36/lib/python3.6/site-packages/torch/serialization.py:658: SourceChangeWarning: source code of class 'torch.nn.modules.sparse.Embedding' has changed. you can retrieve the original source code by accessing the object's source attribute or set `torch.nn.Module.dump_patches = True` and use the patch tool to revert the changes.\n",
      "  warnings.warn(msg, SourceChangeWarning)\n",
      "/home/ec2-user/anaconda3/envs/pytorch_latest_p36/lib/python3.6/site-packages/torch/serialization.py:658: SourceChangeWarning: source code of class 'torch.nn.modules.container.ModuleList' has changed. you can retrieve the original source code by accessing the object's source attribute or set `torch.nn.Module.dump_patches = True` and use the patch tool to revert the changes.\n",
      "  warnings.warn(msg, SourceChangeWarning)\n",
      "/home/ec2-user/anaconda3/envs/pytorch_latest_p36/lib/python3.6/site-packages/torch/serialization.py:658: SourceChangeWarning: source code of class 'nets.encoders.gnn_encoder.GNNLayer' has changed. you can retrieve the original source code by accessing the object's source attribute or set `torch.nn.Module.dump_patches = True` and use the patch tool to revert the changes.\n",
      "  warnings.warn(msg, SourceChangeWarning)\n",
      "/home/ec2-user/anaconda3/envs/pytorch_latest_p36/lib/python3.6/site-packages/torch/serialization.py:658: SourceChangeWarning: source code of class 'torch.nn.modules.batchnorm.BatchNorm1d' has changed. you can retrieve the original source code by accessing the object's source attribute or set `torch.nn.Module.dump_patches = True` and use the patch tool to revert the changes.\n",
      "  warnings.warn(msg, SourceChangeWarning)\n"
     ]
    }
   ],
   "source": [
    "model_dir = \"./model\"\n",
    "model = model_fn(model_dir)"
   ]
  },
  {
   "cell_type": "code",
   "execution_count": 23,
   "id": "b637534a",
   "metadata": {},
   "outputs": [
    {
     "data": {
      "text/plain": [
       "AttentionModel(\n",
       "  (init_embed): Linear(in_features=2, out_features=128, bias=True)\n",
       "  (embedder): GNNEncoder(\n",
       "    (init_embed_edges): Embedding(2, 128)\n",
       "    (layers): ModuleList(\n",
       "      (0): GNNLayer(\n",
       "        (U): Linear(in_features=128, out_features=128, bias=True)\n",
       "        (V): Linear(in_features=128, out_features=128, bias=True)\n",
       "        (A): Linear(in_features=128, out_features=128, bias=True)\n",
       "        (B): Linear(in_features=128, out_features=128, bias=True)\n",
       "        (C): Linear(in_features=128, out_features=128, bias=True)\n",
       "        (norm_h): BatchNorm1d(128, eps=1e-05, momentum=0.1, affine=True, track_running_stats=False)\n",
       "        (norm_e): BatchNorm1d(128, eps=1e-05, momentum=0.1, affine=True, track_running_stats=False)\n",
       "      )\n",
       "      (1): GNNLayer(\n",
       "        (U): Linear(in_features=128, out_features=128, bias=True)\n",
       "        (V): Linear(in_features=128, out_features=128, bias=True)\n",
       "        (A): Linear(in_features=128, out_features=128, bias=True)\n",
       "        (B): Linear(in_features=128, out_features=128, bias=True)\n",
       "        (C): Linear(in_features=128, out_features=128, bias=True)\n",
       "        (norm_h): BatchNorm1d(128, eps=1e-05, momentum=0.1, affine=True, track_running_stats=False)\n",
       "        (norm_e): BatchNorm1d(128, eps=1e-05, momentum=0.1, affine=True, track_running_stats=False)\n",
       "      )\n",
       "      (2): GNNLayer(\n",
       "        (U): Linear(in_features=128, out_features=128, bias=True)\n",
       "        (V): Linear(in_features=128, out_features=128, bias=True)\n",
       "        (A): Linear(in_features=128, out_features=128, bias=True)\n",
       "        (B): Linear(in_features=128, out_features=128, bias=True)\n",
       "        (C): Linear(in_features=128, out_features=128, bias=True)\n",
       "        (norm_h): BatchNorm1d(128, eps=1e-05, momentum=0.1, affine=True, track_running_stats=False)\n",
       "        (norm_e): BatchNorm1d(128, eps=1e-05, momentum=0.1, affine=True, track_running_stats=False)\n",
       "      )\n",
       "    )\n",
       "  )\n",
       "  (project_node_embeddings): Linear(in_features=128, out_features=384, bias=False)\n",
       "  (project_fixed_context): Linear(in_features=128, out_features=128, bias=False)\n",
       "  (project_step_context): Linear(in_features=256, out_features=128, bias=False)\n",
       "  (project_out): Linear(in_features=128, out_features=128, bias=False)\n",
       ")"
      ]
     },
     "execution_count": 23,
     "metadata": {},
     "output_type": "execute_result"
    }
   ],
   "source": [
    "model"
   ]
  },
  {
   "cell_type": "markdown",
   "id": "28aab691",
   "metadata": {},
   "source": [
    "## input"
   ]
  },
  {
   "cell_type": "code",
   "execution_count": 24,
   "id": "a206c4eb",
   "metadata": {},
   "outputs": [],
   "source": [
    "serializer = JSONLinesSerializer()"
   ]
  },
  {
   "cell_type": "code",
   "execution_count": 25,
   "id": "fb4974dd",
   "metadata": {},
   "outputs": [],
   "source": [
    "data_jsonlines = serializer.serialize(data)"
   ]
  },
  {
   "cell_type": "code",
   "execution_count": 30,
   "id": "ffe79120",
   "metadata": {},
   "outputs": [],
   "source": [
    "#request_body = serializer.serialize(data_jsonlines).encode(\"utf-8\")"
   ]
  },
  {
   "cell_type": "code",
   "execution_count": 26,
   "id": "8123cec7",
   "metadata": {},
   "outputs": [],
   "source": [
    "request_body = data_jsonlines.encode(\"utf-8\")"
   ]
  },
  {
   "cell_type": "code",
   "execution_count": 27,
   "id": "b92048e0",
   "metadata": {},
   "outputs": [
    {
     "name": "stdout",
     "output_type": "stream",
     "text": [
      "request received!!\n",
      "<class 'bytes'>\n",
      "2\n",
      "<class 'str'> 458\n",
      "<class 'str'> 460\n"
     ]
    }
   ],
   "source": [
    "input_data = input_fn(request_body)"
   ]
  },
  {
   "cell_type": "code",
   "execution_count": 28,
   "id": "27a38a3d",
   "metadata": {},
   "outputs": [],
   "source": [
    "with open(\"inference_input\", 'w') as file:\n",
    "    file.write(data_jsonlines)"
   ]
  },
  {
   "cell_type": "code",
   "execution_count": 29,
   "id": "89b1f346",
   "metadata": {},
   "outputs": [
    {
     "name": "stdout",
     "output_type": "stream",
     "text": [
      "upload: ./inference_input to s3://sagemaker-ap-southeast-2-161422014849/data/inference/inference_input\n"
     ]
    }
   ],
   "source": [
    "# upload to S3 for batch transform\n",
    "!aws s3 cp inference_input s3://$BUCKET/data/inference/"
   ]
  },
  {
   "cell_type": "markdown",
   "id": "75db8bab",
   "metadata": {},
   "source": [
    "## Prediction"
   ]
  },
  {
   "cell_type": "code",
   "execution_count": 30,
   "id": "983bbb84",
   "metadata": {},
   "outputs": [
    {
     "data": {
      "text/plain": [
       "[{'nodes': [[[0.17237919569015503, 0.30322661995887756],\n",
       "    [0.4001781642436981, 0.08303876966238022],\n",
       "    [0.9577174782752991, 0.06723511219024658],\n",
       "    [0.3205690085887909, 0.864788293838501],\n",
       "    [0.7107783555984497, 0.4769577980041504],\n",
       "    [0.2889561057090759, 0.23669394850730896],\n",
       "    [0.25502970814704895, 0.6648805141448975],\n",
       "    [0.7122745513916016, 0.8629788160324097],\n",
       "    [0.15989430248737335, 0.5915039777755737],\n",
       "    [0.6722036600112915, 0.42656928300857544]]],\n",
       "  'neighbors': 0.2},\n",
       " {'nodes': [[[0.016316097229719162, 0.9005574584007263],\n",
       "    [0.5326317548751831, 0.3426164388656616],\n",
       "    [0.7196614146232605, 0.14507879316806793],\n",
       "    [0.47778037190437317, 0.18811026215553284],\n",
       "    [0.8428910970687866, 0.8391184210777283],\n",
       "    [0.5771450400352478, 0.7313387989997864],\n",
       "    [0.35447993874549866, 0.8077568411827087],\n",
       "    [0.9068283438682556, 0.30471447110176086],\n",
       "    [0.05323702096939087, 0.22702862322330475],\n",
       "    [0.0816958099603653, 0.9146664142608643]]],\n",
       "  'neighbors': 0.2}]"
      ]
     },
     "execution_count": 30,
     "metadata": {},
     "output_type": "execute_result"
    }
   ],
   "source": [
    "input_data"
   ]
  },
  {
   "cell_type": "code",
   "execution_count": 31,
   "id": "4705d27a",
   "metadata": {},
   "outputs": [
    {
     "name": "stderr",
     "output_type": "stream",
     "text": [
      "  0%|          | 0/2 [00:00<?, ?it/s]./src/nets/encoders/gnn_encoder.py:118: UserWarning: indexing with dtype torch.uint8 is now deprecated, please use a dtype torch.bool instead. (Triggered internally at  /opt/conda/conda-bld/pytorch_1607370116979/work/aten/src/ATen/native/IndexingUtils.h:25.)\n",
      "  Vh[graph.unsqueeze(-1).expand_as(Vh)] = 0\n",
      "./src/nets/attention_model.py:573: UserWarning: indexing with dtype torch.uint8 is now deprecated, please use a dtype torch.bool instead. (Triggered internally at  /opt/conda/conda-bld/pytorch_1607370116979/work/aten/src/ATen/native/IndexingUtils.h:25.)\n",
      "  compatibility[mask[None, :, :, None, :].expand_as(compatibility)] = -1e10\n",
      "./src/nets/attention_model.py:597: UserWarning: indexing with dtype torch.uint8 is now deprecated, please use a dtype torch.bool instead. (Triggered internally at  /opt/conda/conda-bld/pytorch_1607370116979/work/aten/src/ATen/native/IndexingUtils.h:25.)\n",
      "  logits[mask] = -1e10\n",
      "100%|██████████| 2/2 [00:00<00:00,  9.91it/s]"
     ]
    },
    {
     "name": "stdout",
     "output_type": "stream",
     "text": [
      "cost:tensor([2.8009])\n",
      "cost:tensor([3.2031])\n"
     ]
    },
    {
     "name": "stderr",
     "output_type": "stream",
     "text": [
      "\n"
     ]
    }
   ],
   "source": [
    "prediction = predict_fn(input_data, model)"
   ]
  },
  {
   "cell_type": "code",
   "execution_count": 32,
   "id": "7244c1ba",
   "metadata": {},
   "outputs": [
    {
     "data": {
      "text/plain": [
       "[[[7, 4, 9, 2, 1, 5, 0, 8, 6, 3]], [[4, 7, 2, 1, 3, 8, 0, 9, 6, 5]]]"
      ]
     },
     "execution_count": 32,
     "metadata": {},
     "output_type": "execute_result"
    }
   ],
   "source": [
    "prediction"
   ]
  },
  {
   "cell_type": "markdown",
   "id": "35855047",
   "metadata": {},
   "source": [
    "## output"
   ]
  },
  {
   "cell_type": "code",
   "execution_count": 33,
   "id": "3e80986a",
   "metadata": {},
   "outputs": [],
   "source": [
    "output = output_fn(prediction)"
   ]
  },
  {
   "cell_type": "code",
   "execution_count": 34,
   "id": "3e9f7e11",
   "metadata": {},
   "outputs": [
    {
     "data": {
      "text/plain": [
       "('[[7, 4, 9, 2, 1, 5, 0, 8, 6, 3]]\\n[[4, 7, 2, 1, 3, 8, 0, 9, 6, 5]]\\n',\n",
       " 'application/jsonlines')"
      ]
     },
     "execution_count": 34,
     "metadata": {},
     "output_type": "execute_result"
    }
   ],
   "source": [
    "output"
   ]
  },
  {
   "cell_type": "code",
   "execution_count": 35,
   "id": "fe4f3680",
   "metadata": {},
   "outputs": [],
   "source": [
    "with open(\"prediction\", 'w') as file:\n",
    "    file.write(output[0])"
   ]
  },
  {
   "cell_type": "markdown",
   "id": "c078f7e8",
   "metadata": {},
   "source": [
    "# 2. Test inference code via endpoints"
   ]
  },
  {
   "cell_type": "code",
   "execution_count": 40,
   "id": "53fe32a8",
   "metadata": {},
   "outputs": [],
   "source": [
    "import sagemaker\n",
    "\n",
    "role = sagemaker.get_execution_role()\n",
    "\n",
    "from sagemaker.pytorch import PyTorchModel\n",
    "\n",
    "model_sm = PyTorchModel(\n",
    "    model_data=model_data,\n",
    "    source_dir=\"learning-tsp/src\",\n",
    "    entry_point=\"inference.py\",\n",
    "    role=role,\n",
    "    framework_version=\"1.8.1\",\n",
    "    py_version=\"py36\",\n",
    ")"
   ]
  },
  {
   "cell_type": "code",
   "execution_count": 42,
   "id": "868c762f",
   "metadata": {},
   "outputs": [
    {
     "name": "stdout",
     "output_type": "stream",
     "text": [
      "---------------!"
     ]
    }
   ],
   "source": [
    "predictor = model_sm.deploy(initial_instance_count=1,\n",
    "                         instance_type=\"ml.m4.xlarge\",\n",
    "                         serializer=JSONLinesSerializer(),\n",
    "                         deserializer=JSONLinesDeserializer(),)"
   ]
  },
  {
   "cell_type": "code",
   "execution_count": 43,
   "id": "cbdda157",
   "metadata": {},
   "outputs": [],
   "source": [
    "# Send the sampled images to endpoint for inference\n",
    "prediction = predictor.predict(data)"
   ]
  },
  {
   "cell_type": "code",
   "execution_count": 44,
   "id": "84328ab4",
   "metadata": {},
   "outputs": [
    {
     "data": {
      "text/plain": [
       "[[[5, 8, 0, 1, 6, 4, 9, 7, 3, 2]], [[9, 7, 4, 5, 0, 1, 6, 2, 3, 8]]]"
      ]
     },
     "execution_count": 44,
     "metadata": {},
     "output_type": "execute_result"
    }
   ],
   "source": [
    "prediction"
   ]
  },
  {
   "cell_type": "markdown",
   "id": "858cb55f",
   "metadata": {},
   "source": [
    "# 3. Batch Transform"
   ]
  },
  {
   "cell_type": "code",
   "execution_count": 45,
   "id": "5350226e",
   "metadata": {},
   "outputs": [],
   "source": [
    "transformer = model_sm.transformer(instance_count=1, \n",
    "                     instance_type='ml.m5.2xlarge', \n",
    "                     strategy='MultiRecord',\n",
    "                     assemble_with='Line',\n",
    "                     accept='application/jsonlines',\n",
    "                     max_concurrent_transforms=4,\n",
    "                     env = {'SAGEMAKER_MODEL_SERVER_TIMEOUT' : '3600' },\n",
    "                     #output_path='s3://{}/output'.format(bucket),\n",
    "                     #sagemaker_session=sagemaker_session\n",
    "                                  )"
   ]
  },
  {
   "cell_type": "code",
   "execution_count": 46,
   "id": "515f11f1",
   "metadata": {},
   "outputs": [],
   "source": [
    "transformer.transform(f's3://{BUCKET}/data/inference/inference_input',\n",
    "                      content_type='application/jsonlines',\n",
    "                     split_type='Line',\n",
    "                     wait=False,)"
   ]
  },
  {
   "cell_type": "markdown",
   "id": "c5b61ecf",
   "metadata": {},
   "source": [
    "# 4. Clean up (Optional)"
   ]
  },
  {
   "cell_type": "code",
   "execution_count": null,
   "id": "0d296f41",
   "metadata": {},
   "outputs": [],
   "source": [
    "## Delete the SageMaker endpoint\n",
    "#predictor.delete_endpoint()\n",
    "#\n",
    "## Delete the SageMaker model\n",
    "#model_sm.delete_model()"
   ]
  }
 ],
 "metadata": {
  "kernelspec": {
   "display_name": "conda_pytorch_latest_p36",
   "language": "python",
   "name": "conda_pytorch_latest_p36"
  },
  "language_info": {
   "codemirror_mode": {
    "name": "ipython",
    "version": 3
   },
   "file_extension": ".py",
   "mimetype": "text/x-python",
   "name": "python",
   "nbconvert_exporter": "python",
   "pygments_lexer": "ipython3",
   "version": "3.6.13"
  }
 },
 "nbformat": 4,
 "nbformat_minor": 5
}
